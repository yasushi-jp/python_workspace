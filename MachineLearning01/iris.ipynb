{
 "cells": [
  {
   "cell_type": "code",
   "execution_count": 1,
   "metadata": {},
   "outputs": [
    {
     "name": "stdout",
     "output_type": "stream",
     "text": [
      "正解率 =  0.9666666666666667\n"
     ]
    }
   ],
   "source": [
    "# ライブラリのインポート\n",
    "import pandas as pd\n",
    "from sklearn.model_selection import train_test_split\n",
    "from sklearn.svm import SVC\n",
    "from sklearn.metrics import accuracy_score\n",
    "\n",
    "# アヤメデータの読み込み\n",
    "iris_data = pd.read_csv(\"data/iris.csv\", encoding=\"utf-8\")\n",
    "\n",
    "# アヤメデータをラベルと入力データに分離する\n",
    "y = iris_data.loc[:, \"Name\"]\n",
    "x = iris_data.loc[:, [\"SepalLength\", \"SepalWidth\", \"PetalLength\", \"PetalWidth\"]]\n",
    "\n",
    "# 学習用とテスト用に分離する\n",
    "x_train, x_test, y_train, y_test = train_test_split(x, y, test_size = 0.2, train_size = 0.8, shuffle = True)\n",
    "\n",
    "# アルゴリズムの指定（SVC）\n",
    "clf = SVC()\n",
    "\n",
    "# 学習する\n",
    "clf.fit(x_train, y_train)\n",
    "\n",
    "# テストデータによる予測\n",
    "y_pred = clf.predict(x_test)\n",
    "\n",
    "# 予測結果の評価\n",
    "print(\"正解率 = \", accuracy_score(y_test, y_pred))"
   ]
  },
  {
   "cell_type": "code",
   "execution_count": null,
   "metadata": {},
   "outputs": [],
   "source": []
  }
 ],
 "metadata": {
  "kernelspec": {
   "display_name": "Python 3",
   "language": "python",
   "name": "python3"
  },
  "language_info": {
   "codemirror_mode": {
    "name": "ipython",
    "version": 3
   },
   "file_extension": ".py",
   "mimetype": "text/x-python",
   "name": "python",
   "nbconvert_exporter": "python",
   "pygments_lexer": "ipython3",
   "version": "3.6.4"
  }
 },
 "nbformat": 4,
 "nbformat_minor": 2
}
