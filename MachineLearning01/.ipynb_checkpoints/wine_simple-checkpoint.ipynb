{
 "cells": [
  {
   "cell_type": "code",
   "execution_count": 1,
   "metadata": {},
   "outputs": [
    {
     "name": "stdout",
     "output_type": "stream",
     "text": [
      "             precision    recall  f1-score   support\n",
      "\n",
      "          3       0.00      0.00      0.00         3\n",
      "          4       0.55      0.17      0.26        35\n",
      "          5       0.62      0.73      0.67       270\n",
      "          6       0.66      0.73      0.69       458\n",
      "          7       0.64      0.49      0.56       177\n",
      "          8       0.92      0.32      0.48        37\n",
      "\n",
      "avg / total       0.65      0.65      0.64       980\n",
      "\n",
      "正解率 =  0.6479591836734694\n"
     ]
    },
    {
     "name": "stderr",
     "output_type": "stream",
     "text": [
      "C:\\DK\\Anaconda3\\envs\\tf_env\\lib\\site-packages\\sklearn\\metrics\\classification.py:1135: UndefinedMetricWarning: Precision and F-score are ill-defined and being set to 0.0 in labels with no predicted samples.\n",
      "  'precision', 'predicted', average, warn_for)\n"
     ]
    }
   ],
   "source": [
    "# ライブラリのインポート\n",
    "import pandas as pd\n",
    "from sklearn.model_selection import train_test_split\n",
    "from sklearn.ensemble import RandomForestClassifier\n",
    "from sklearn.metrics import accuracy_score\n",
    "from sklearn.metrics import classification_report\n",
    "\n",
    "# データの読み込み\n",
    "wine_data = pd.read_csv(\"data/winequality-white.csv\", sep=\";\", encoding=\"utf-8\")\n",
    "\n",
    "# データをラベルと入力データに分離する\n",
    "y = wine_data[\"quality\"]\n",
    "x = wine_data.drop(\"quality\", axis=1)\n",
    "\n",
    "# 学習用とテスト用に分割する\n",
    "x_train, x_test, y_train, y_test = train_test_split(x, y, test_size = 0.2, train_size = 0.8, shuffle = True)\n",
    "\n",
    "# アルゴリズムの指定（RandomForestClassifier）\n",
    "model = RandomForestClassifier()\n",
    "\n",
    "# 学習する\n",
    "model.fit(x_train, y_train)\n",
    "\n",
    "# テストデータによる予測\n",
    "y_pred = model.predict(x_test)\n",
    "\n",
    "# 予測結果の評価\n",
    "print(classification_report(y_test, y_pred))\n",
    "print(\"正解率 = \", accuracy_score(y_test, y_pred))"
   ]
  },
  {
   "cell_type": "code",
   "execution_count": null,
   "metadata": {},
   "outputs": [],
   "source": []
  }
 ],
 "metadata": {
  "kernelspec": {
   "display_name": "Python 3",
   "language": "python",
   "name": "python3"
  },
  "language_info": {
   "codemirror_mode": {
    "name": "ipython",
    "version": 3
   },
   "file_extension": ".py",
   "mimetype": "text/x-python",
   "name": "python",
   "nbconvert_exporter": "python",
   "pygments_lexer": "ipython3",
   "version": "3.6.4"
  }
 },
 "nbformat": 4,
 "nbformat_minor": 2
}
