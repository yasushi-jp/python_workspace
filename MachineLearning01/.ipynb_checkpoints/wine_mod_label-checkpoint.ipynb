{
 "cells": [
  {
   "cell_type": "code",
   "execution_count": 1,
   "metadata": {},
   "outputs": [
    {
     "name": "stdout",
     "output_type": "stream",
     "text": [
      "             precision    recall  f1-score   support\n",
      "\n",
      "          0       0.55      0.15      0.24        40\n",
      "          1       0.94      0.99      0.96       907\n",
      "          2       0.69      0.33      0.45        33\n",
      "\n",
      "avg / total       0.92      0.93      0.92       980\n",
      "\n",
      "正解率 =  0.9326530612244898\n"
     ]
    }
   ],
   "source": [
    "# ライブラリのインポート\n",
    "import pandas as pd\n",
    "from sklearn.model_selection import train_test_split\n",
    "from sklearn.ensemble import RandomForestClassifier\n",
    "from sklearn.metrics import accuracy_score\n",
    "from sklearn.metrics import classification_report\n",
    "\n",
    "# データの読み込み\n",
    "wine_data = pd.read_csv(\"data/winequality-white.csv\", sep=\";\", encoding=\"utf-8\")\n",
    "\n",
    "# データをラベルと入力データに分離する\n",
    "y = wine_data[\"quality\"]\n",
    "x = wine_data.drop(\"quality\", axis=1)\n",
    "\n",
    "# y のラベルをつけ直す\n",
    "newlist = []\n",
    "for v in list(y):\n",
    "    if v <= 4:\n",
    "        newlist += [0]\n",
    "    elif v <= 7:\n",
    "        newlist += [1]\n",
    "    else:\n",
    "        newlist += [2]\n",
    "y = newlist\n",
    "\n",
    "# 学習用とテスト用に分割する\n",
    "x_train, x_test, y_train, y_test = train_test_split(x, y, test_size = 0.2, train_size = 0.8, shuffle = True)\n",
    "\n",
    "# アルゴリズムの指定（RandomForestClassifier）\n",
    "model = RandomForestClassifier()\n",
    "\n",
    "# 学習する\n",
    "model.fit(x_train, y_train)\n",
    "\n",
    "# テストデータによる予測\n",
    "y_pred = model.predict(x_test)\n",
    "\n",
    "# 予測結果の評価\n",
    "print(classification_report(y_test, y_pred))\n",
    "print(\"正解率 = \", accuracy_score(y_test, y_pred))"
   ]
  },
  {
   "cell_type": "code",
   "execution_count": null,
   "metadata": {},
   "outputs": [],
   "source": []
  }
 ],
 "metadata": {
  "kernelspec": {
   "display_name": "Python 3",
   "language": "python",
   "name": "python3"
  },
  "language_info": {
   "codemirror_mode": {
    "name": "ipython",
    "version": 3
   },
   "file_extension": ".py",
   "mimetype": "text/x-python",
   "name": "python",
   "nbconvert_exporter": "python",
   "pygments_lexer": "ipython3",
   "version": "3.6.4"
  }
 },
 "nbformat": 4,
 "nbformat_minor": 2
}
